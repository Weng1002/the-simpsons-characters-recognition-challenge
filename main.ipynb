{
 "cells": [
  {
   "cell_type": "markdown",
   "metadata": {},
   "source": [
    "先安裝需要的套件"
   ]
  },
  {
   "cell_type": "code",
   "execution_count": null,
   "metadata": {},
   "outputs": [],
   "source": [
    "!pip install torch \n",
    "!pip install torchvision   \n",
    "!pip install timm\n",
    "!pip install pandas\n",
    "!pip install matplotlib"
   ]
  },
  {
   "cell_type": "markdown",
   "metadata": {},
   "source": [
    "先定義資料增強的方法"
   ]
  },
  {
   "cell_type": "code",
   "execution_count": null,
   "metadata": {},
   "outputs": [],
   "source": [
    "import torch\n",
    "from torchvision import datasets, transforms\n",
    "import torchvision.transforms as transforms\n",
    "from torch.utils.data import random_split, DataLoader\n",
    "\n",
    "import os\n",
    "import torchvision.transforms.v2 as T\n",
    "from PIL import Image\n",
    "\n",
    "# Custom transform to add Gaussian noise\n",
    "class AddGaussianNoise(object):\n",
    "    def __init__(self, mean=0., std=1.):\n",
    "        self.std = std\n",
    "        self.mean = mean\n",
    "\n",
    "    def __call__(self, tensor):\n",
    "        return tensor + torch.randn(tensor.size()) * self.std + self.mean\n",
    "\n",
    "# Custom transform to add Speckle noise\n",
    "class AddSpeckleNoise(object):\n",
    "    \"\"\"\n",
    "    Add speckle noise to the image.\n",
    "    \"\"\"\n",
    "    def __init__(self, noise_level=0.1):\n",
    "        \"\"\"\n",
    "        :param noise_level: Standard deviation of the noise distribution\n",
    "        \"\"\"\n",
    "        self.noise_level = noise_level\n",
    "\n",
    "    def __call__(self, tensor):\n",
    "        \"\"\"\n",
    "        :param tensor: PyTorch tensor, the image on which noise is added\n",
    "        :return: PyTorch tensor, image with speckle noise\n",
    "        \"\"\"\n",
    "        # Generate speckle noise\n",
    "        noise = torch.randn_like(tensor) * self.noise_level\n",
    "\n",
    "        # Add speckle noise to the image\n",
    "        noisy_tensor = tensor * (1 + noise)\n",
    "\n",
    "        # Clip the values to be between 0 and 1\n",
    "        noisy_tensor = torch.clamp(noisy_tensor, 0, 1)\n",
    "\n",
    "        return noisy_tensor\n",
    "\n",
    "class AddPoissonNoise(object):\n",
    "    \"\"\"\n",
    "    Add Poisson noise to the image.\n",
    "    \"\"\"\n",
    "    def __init__(self, lam=1.0):\n",
    "        \"\"\"\n",
    "        :param lam: Lambda parameter for Poisson distribution\n",
    "        \"\"\"\n",
    "        self.lam = lam\n",
    "\n",
    "    def __call__(self, tensor):\n",
    "        \"\"\"\n",
    "        :param tensor: PyTorch tensor, the image to which noise is added\n",
    "        :return: PyTorch tensor, image with Poisson noise\n",
    "        \"\"\"\n",
    "        # Generate Poisson noise\n",
    "        noise = torch.poisson(self.lam * torch.ones(tensor.shape))\n",
    "\n",
    "        # Add Poisson noise to the image\n",
    "        noisy_tensor = tensor + noise / 255.0  # Assuming the image is scaled between 0 and 1\n",
    "\n",
    "        # Clip the values to be between 0 and 1\n",
    "        noisy_tensor = torch.clamp(noisy_tensor, 0, 1)\n",
    "\n",
    "        return noisy_tensor\n",
    "\n",
    "# Custom transform to add Salt and Pepper noise\n",
    "class AddSaltPepperNoise(object):\n",
    "    def __init__(self, salt_prob=0.05, pepper_prob=0.05):\n",
    "        self.salt_prob = salt_prob\n",
    "        self.pepper_prob = pepper_prob\n",
    "\n",
    "    def __call__(self, tensor):\n",
    "        noise = torch.rand(tensor.size())\n",
    "        tensor = tensor.clone()  # Clone the tensor to avoid modifying the original\n",
    "        \n",
    "        # Apply salt noise: setting some pixels to 1\n",
    "        tensor[noise < self.salt_prob] = 1\n",
    "        \n",
    "        # Apply pepper noise: setting some pixels to 0\n",
    "        tensor[noise > 1 - self.pepper_prob] = 0\n",
    "        \n",
    "        return tensor\n",
    "\n",
    "\n",
    "# Define the image augmentation transformations\n",
    "transform = T.Compose([\n",
    "    T.Resize(256),                     # 調整圖像大小\n",
    "    T.CenterCrop(224),                 # 中心裁剪至 224x224\n",
    "    T.ToTensor(),                      # 轉換為 Tensor\n",
    "    T.RandomHorizontalFlip(p=0.1),     # 水平翻轉\n",
    "    T.RandomVerticalFlip(p=0.1),       # 垂直翻轉\n",
    "    T.RandomRotation(10),              # 隨機旋轉\n",
    "    T.ColorJitter(0.4, 0.4, 0.4, 0.1), # 色彩抖動\n",
    "    T.RandomGrayscale(p=0.1),          # 灰階\n",
    "    T.Normalize(mean=[0.485, 0.456, 0.406], std=[0.229, 0.224, 0.225]) # 正規化 (ViT 使用 ImageNet 的均值與標準差)\n",
    "])"
   ]
  },
  {
   "cell_type": "markdown",
   "metadata": {},
   "source": [
    "載入數據集，以及區隔出訓練集和驗證集"
   ]
  },
  {
   "cell_type": "code",
   "execution_count": null,
   "metadata": {},
   "outputs": [],
   "source": [
    "batch_size = 32\n",
    "\n",
    "# 載入完整的訓練資料集\n",
    "full_dataset = datasets.ImageFolder(root='./train/train', transform=transform)\n",
    "\n",
    "# 設置拆分比例（例如 80% 用於訓練，20% 用於驗證）\n",
    "train_size = int(0.8 * len(full_dataset))\n",
    "val_size = len(full_dataset) - train_size\n",
    "\n",
    "# 使用 random_split 進行拆分\n",
    "train_dataset, val_dataset = random_split(full_dataset, [train_size, val_size])\n",
    "\n",
    "# 建立 DataLoader\n",
    "train_loader = DataLoader(train_dataset, batch_size=batch_size, shuffle=True, num_workers=2)\n",
    "val_loader = DataLoader(val_dataset, batch_size=batch_size, shuffle=False, num_workers=2)\n",
    "\n",
    "device = torch.device(\"cuda\" if torch.cuda.is_available() else \"cpu\")\n",
    "\n",
    "print(f\"Training samples: {len(train_dataset)}\")\n",
    "print(f\"Validation samples: {len(val_dataset)}\")\n",
    "\n",
    "# # 檢查資料集類別\n",
    "class_names = full_dataset.classes"
   ]
  },
  {
   "cell_type": "markdown",
   "metadata": {},
   "source": [
    "載入 Pre-training 模型"
   ]
  },
  {
   "cell_type": "code",
   "execution_count": null,
   "metadata": {},
   "outputs": [],
   "source": [
    "from torchvision.models import vit_b_16\n",
    "\n",
    "# 使用 torchvision 提供的 ViT 模型\n",
    "model = vit_b_16(pretrained=True).to(device)\n",
    "\n",
    "# 替換分類頭\n",
    "in_features = model.heads.head.in_features  # ViT 的輸出特徵數\n",
    "num_classes = len(class_names)  # 類別數量\n",
    "model.heads.head = nn.Sequential(\n",
    "    nn.Linear(in_features, 256),  # 隱藏層\n",
    "    nn.ReLU(inplace=True),\n",
    "    nn.Linear(256, num_classes)   # 輸出層\n",
    ").to(device)\n"
   ]
  },
  {
   "cell_type": "markdown",
   "metadata": {},
   "source": [
    "設定優化器和loss function"
   ]
  },
  {
   "cell_type": "code",
   "execution_count": null,
   "metadata": {},
   "outputs": [],
   "source": [
    "import torch.optim as optim\n",
    "\n",
    "# 定義損失函數和優化器\n",
    "criterion = nn.CrossEntropyLoss()  # 分類任務中的標準損失函數\n",
    "optimizer = optim.Adam(model.parameters(), lr=1e-3, weight_decay=5e-4) # good"
   ]
  },
  {
   "cell_type": "markdown",
   "metadata": {},
   "source": [
    "訓練模型"
   ]
  },
  {
   "cell_type": "code",
   "execution_count": null,
   "metadata": {},
   "outputs": [],
   "source": [
    "num_epochs = 30  # 訓練的回合數\n",
    "optimizer = torch.optim.Adam(model.parameters(), lr=1e-4)  # 假設使用 Adam 優化器\n",
    "criterion = torch.nn.CrossEntropyLoss()  # 假設使用交叉熵損失\n",
    "\n",
    "for epoch in range(num_epochs):\n",
    "    model.train()  # 訓練模式\n",
    "    running_loss = 0.0\n",
    "    for inputs, labels in train_loader:\n",
    "        # 確保圖像與標籤移動至正確的設備\n",
    "        inputs, labels = inputs.to(device), labels.to(device)\n",
    "\n",
    "        # 前向傳播與梯度更新\n",
    "        optimizer.zero_grad()         \n",
    "        outputs = model(inputs)    \n",
    "        loss = criterion(outputs, labels)  \n",
    "        loss.backward()                \n",
    "        optimizer.step()               \n",
    "\n",
    "        running_loss += loss.item()\n",
    "\n",
    "    # 訓練損失輸出\n",
    "    print(f\"Epoch {epoch+1}/{num_epochs}, Training Loss: {running_loss/len(train_loader):.4f}\")\n"
   ]
  },
  {
   "cell_type": "markdown",
   "metadata": {},
   "source": [
    "驗證模型"
   ]
  },
  {
   "cell_type": "code",
   "execution_count": null,
   "metadata": {},
   "outputs": [],
   "source": [
    "model.eval()  # 設置模型為評估模式\n",
    "correct = 0\n",
    "total = 0\n",
    "with torch.no_grad():  # 關閉梯度計算，以節省記憶體\n",
    "    for inputs, labels in val_loader:\n",
    "        inputs, labels = inputs.to(device), labels.to(device)\n",
    "        outputs = model(inputs)\n",
    "        # print(outputs)\n",
    "        _, predicted = torch.max(outputs, 1)\n",
    "        total += labels.size(0)\n",
    "        correct += (predicted == labels).sum().item()\n",
    "\n",
    "accuracy = 100 * correct / total\n",
    "print(f'Validation Accuracy: {accuracy:.2f}%')\n"
   ]
  },
  {
   "cell_type": "markdown",
   "metadata": {},
   "source": [
    "預測模型"
   ]
  },
  {
   "cell_type": "code",
   "execution_count": null,
   "metadata": {},
   "outputs": [],
   "source": [
    "# 定義圖像的轉換\n",
    "transform = T.Compose([\n",
    "    T.Resize(256),      # 調整圖像大小\n",
    "    T.CenterCrop(224),  # 中心裁剪\n",
    "    T.ToTensor(),       # 轉換為張量\n",
    "    T.Normalize(mean=[0.485, 0.456, 0.406], std=[0.229, 0.224, 0.225])  # 正規化\n",
    "])\n",
    "\n",
    "# 自定義排序函數\n",
    "def numeric_sort(img_list):\n",
    "    return sorted(img_list, key=lambda x: int(os.path.splitext(os.path.basename(x[0]))[0]))\n",
    "\n",
    "# 加載測試資料集\n",
    "test_dataset = datasets.ImageFolder(root='./test-final', transform=transform)\n",
    "test_dataset.samples = numeric_sort(test_dataset.samples)  # 按數值排序\n",
    "test_dataset.imgs = test_dataset.samples  # 更新 imgs 以符合排序結果\n",
    "\n",
    "# 建立測試 DataLoader\n",
    "test_loader = DataLoader(test_dataset, batch_size=batch_size, shuffle=False, num_workers=2)\n",
    "\n",
    "# 模型評估模式\n",
    "model.eval()  \n",
    "predictions = []  # 初始化預測結果\n",
    "\n",
    "# 遍歷測試集並生成預測\n",
    "with torch.no_grad():\n",
    "    for i, (inputs, _) in enumerate(test_loader, start=1):  # start=1 表示 ID 從 1 開始\n",
    "        inputs = inputs.to(device)\n",
    "        outputs = model(inputs)  # 前向傳播\n",
    "        _, predicted = torch.max(outputs, 1)  # 獲取每個樣本的預測類別索引\n",
    "\n",
    "        # 保存 batch 中的預測結果\n",
    "        for idx, pred in enumerate(predicted):\n",
    "            class_name = class_names[pred.item()]  # 根據索引獲取類別名稱\n",
    "            predictions.append({'id': (i - 1) * batch_size + idx + 1, 'character': class_name})  # 計算全域 ID\n",
    "\n",
    "# 保存提交檔案\n",
    "submission_df = pd.DataFrame(predictions)\n",
    "submission_df.to_csv('submission-new.csv', index=False)\n",
    "print(\"Submission file 'submission-new.csv' generated successfully!\")\n"
   ]
  }
 ],
 "metadata": {
  "kernelspec": {
   "display_name": "project",
   "language": "python",
   "name": "python3"
  },
  "language_info": {
   "codemirror_mode": {
    "name": "ipython",
    "version": 3
   },
   "file_extension": ".py",
   "mimetype": "text/x-python",
   "name": "python",
   "nbconvert_exporter": "python",
   "pygments_lexer": "ipython3",
   "version": "3.13.0"
  }
 },
 "nbformat": 4,
 "nbformat_minor": 2
}
